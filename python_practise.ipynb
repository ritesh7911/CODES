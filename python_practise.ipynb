{
 "cells": [
  {
   "cell_type": "code",
   "execution_count": 7,
   "id": "9fd762ec",
   "metadata": {},
   "outputs": [],
   "source": [
    "# 20"
   ]
  },
  {
   "cell_type": "code",
   "execution_count": 5,
   "id": "fa5e1f00",
   "metadata": {},
   "outputs": [],
   "source": [
    "def count(heads,legs):\n",
    "    d  = (legs-2*heads)/2\n",
    "    c = (4*heads-legs)/2\n",
    "    print(type(d))\n",
    "    \n",
    "#     d+c = heads\n",
    "#     4d+2c = legs\n",
    "\n",
    "    return d,c\n",
    "    "
   ]
  },
  {
   "cell_type": "code",
   "execution_count": 6,
   "id": "173947b6",
   "metadata": {},
   "outputs": [
    {
     "name": "stdout",
     "output_type": "stream",
     "text": [
      "<class 'float'>\n"
     ]
    },
    {
     "data": {
      "text/plain": [
       "(4.0, 4.0)"
      ]
     },
     "execution_count": 6,
     "metadata": {},
     "output_type": "execute_result"
    }
   ],
   "source": [
    "count(8,24)"
   ]
  },
  {
   "cell_type": "code",
   "execution_count": 8,
   "id": "888246ef",
   "metadata": {},
   "outputs": [],
   "source": [
    "# 21"
   ]
  },
  {
   "cell_type": "code",
   "execution_count": 12,
   "id": "2e2422ed",
   "metadata": {},
   "outputs": [],
   "source": [
    "def swap(x,y):\n",
    "    global a\n",
    "    global b\n",
    "    a =x,\n",
    "    b =y\n",
    "    temp = a\n",
    "    a = b\n",
    "    b = temp\n",
    "    \n",
    "    return a,b\n",
    "    "
   ]
  },
  {
   "cell_type": "code",
   "execution_count": 14,
   "id": "4c0a9d9c",
   "metadata": {},
   "outputs": [
    {
     "data": {
      "text/plain": [
       "(20, (10,))"
      ]
     },
     "execution_count": 14,
     "metadata": {},
     "output_type": "execute_result"
    }
   ],
   "source": [
    "swap(x= 10,y =20)"
   ]
  },
  {
   "cell_type": "code",
   "execution_count": 15,
   "id": "c6939574",
   "metadata": {},
   "outputs": [
    {
     "data": {
      "text/plain": [
       "20"
      ]
     },
     "execution_count": 15,
     "metadata": {},
     "output_type": "execute_result"
    }
   ],
   "source": [
    "a"
   ]
  },
  {
   "cell_type": "code",
   "execution_count": 16,
   "id": "c899c48a",
   "metadata": {},
   "outputs": [
    {
     "data": {
      "text/plain": [
       "(10,)"
      ]
     },
     "execution_count": 16,
     "metadata": {},
     "output_type": "execute_result"
    }
   ],
   "source": [
    "b"
   ]
  },
  {
   "cell_type": "code",
   "execution_count": 17,
   "id": "c0a52882",
   "metadata": {},
   "outputs": [],
   "source": [
    "#22"
   ]
  },
  {
   "cell_type": "code",
   "execution_count": 24,
   "id": "cc62e7d8",
   "metadata": {},
   "outputs": [],
   "source": [
    "def sum(n):\n",
    "    return (n*(n+1))/2"
   ]
  },
  {
   "cell_type": "code",
   "execution_count": 25,
   "id": "30bc9393",
   "metadata": {},
   "outputs": [
    {
     "data": {
      "text/plain": [
       "66.0"
      ]
     },
     "execution_count": 25,
     "metadata": {},
     "output_type": "execute_result"
    }
   ],
   "source": [
    "sum(11)"
   ]
  },
  {
   "cell_type": "code",
   "execution_count": 27,
   "id": "48959505",
   "metadata": {},
   "outputs": [],
   "source": [
    "# 23"
   ]
  },
  {
   "cell_type": "code",
   "execution_count": 30,
   "id": "53855fa6",
   "metadata": {},
   "outputs": [],
   "source": [
    "def product(a,b):\n",
    "    s = 0\n",
    "    i = 0\n",
    "    while a<=b:\n",
    "        s +=a\n",
    "        i = i+1\n",
    "        if i==b:\n",
    "            break\n",
    "        \n",
    "    return s\n",
    "        "
   ]
  },
  {
   "cell_type": "code",
   "execution_count": 33,
   "id": "8e8c3e97",
   "metadata": {},
   "outputs": [
    {
     "data": {
      "text/plain": [
       "18"
      ]
     },
     "execution_count": 33,
     "metadata": {},
     "output_type": "execute_result"
    }
   ],
   "source": [
    "product(3,6)"
   ]
  },
  {
   "cell_type": "code",
   "execution_count": 51,
   "id": "00862834",
   "metadata": {},
   "outputs": [],
   "source": [
    "# 24"
   ]
  },
  {
   "cell_type": "code",
   "execution_count": 48,
   "id": "96e0d3cf",
   "metadata": {},
   "outputs": [],
   "source": [
    "def fact(n):\n",
    "    i = n\n",
    "    ans1 =n\n",
    "    if (n ==0) or (n ==1):\n",
    "        ans =1\n",
    "        return ans\n",
    "    else:\n",
    "        while i!=1:\n",
    "            i =i-1\n",
    "            ans1 = i*(n-i)\n",
    "#             ans2 = ans1\n",
    "#             ans1 = 0\n",
    "#             i-=1\n",
    "        return ans1\n",
    "            \n",
    "    \n",
    "        \n"
   ]
  },
  {
   "cell_type": "code",
   "execution_count": 52,
   "id": "88cdb0b5",
   "metadata": {},
   "outputs": [],
   "source": [
    "# 25"
   ]
  },
  {
   "cell_type": "code",
   "execution_count": 55,
   "id": "58e9b5f7",
   "metadata": {},
   "outputs": [],
   "source": [
    "def odd(n):\n",
    "    li = []\n",
    "    for i in range(n):\n",
    "        if i%2!=0:\n",
    "            li.append(i)\n",
    "        else:\n",
    "            pass\n",
    "        \n",
    "    return li\n",
    "            "
   ]
  },
  {
   "cell_type": "code",
   "execution_count": 57,
   "id": "12cf5cf9",
   "metadata": {},
   "outputs": [
    {
     "data": {
      "text/plain": [
       "[1,\n",
       " 3,\n",
       " 5,\n",
       " 7,\n",
       " 9,\n",
       " 11,\n",
       " 13,\n",
       " 15,\n",
       " 17,\n",
       " 19,\n",
       " 21,\n",
       " 23,\n",
       " 25,\n",
       " 27,\n",
       " 29,\n",
       " 31,\n",
       " 33,\n",
       " 35,\n",
       " 37,\n",
       " 39,\n",
       " 41,\n",
       " 43,\n",
       " 45,\n",
       " 47,\n",
       " 49,\n",
       " 51,\n",
       " 53,\n",
       " 55,\n",
       " 57,\n",
       " 59,\n",
       " 61,\n",
       " 63,\n",
       " 65,\n",
       " 67,\n",
       " 69,\n",
       " 71,\n",
       " 73,\n",
       " 75,\n",
       " 77,\n",
       " 79,\n",
       " 81,\n",
       " 83,\n",
       " 85,\n",
       " 87,\n",
       " 89,\n",
       " 91,\n",
       " 93,\n",
       " 95,\n",
       " 97,\n",
       " 99]"
      ]
     },
     "execution_count": 57,
     "metadata": {},
     "output_type": "execute_result"
    }
   ],
   "source": [
    "odd(100)"
   ]
  },
  {
   "cell_type": "code",
   "execution_count": 58,
   "id": "d00b285b",
   "metadata": {},
   "outputs": [],
   "source": [
    "# 26"
   ]
  },
  {
   "cell_type": "code",
   "execution_count": null,
   "id": "c606be3f",
   "metadata": {},
   "outputs": [],
   "source": []
  }
 ],
 "metadata": {
  "kernelspec": {
   "display_name": "Python 3",
   "language": "python",
   "name": "python3"
  },
  "language_info": {
   "codemirror_mode": {
    "name": "ipython",
    "version": 3
   },
   "file_extension": ".py",
   "mimetype": "text/x-python",
   "name": "python",
   "nbconvert_exporter": "python",
   "pygments_lexer": "ipython3",
   "version": "3.8.8"
  }
 },
 "nbformat": 4,
 "nbformat_minor": 5
}
